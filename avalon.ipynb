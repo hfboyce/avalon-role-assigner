{
 "cells": [
  {
   "cell_type": "markdown",
   "metadata": {},
   "source": [
    "## Let's try and make a code for Avalon"
   ]
  },
  {
   "cell_type": "markdown",
   "metadata": {},
   "source": [
    "If you rather not run a script in bash you can use this notebook and assign your players here. "
   ]
  },
  {
   "cell_type": "markdown",
   "metadata": {},
   "source": [
    "The following are function to be used to assign roles to the players "
   ]
  },
  {
   "cell_type": "code",
   "execution_count": 431,
   "metadata": {},
   "outputs": [],
   "source": [
    "import random\n",
    "import av_assign as av\n",
    "import smtplib\n",
    "from email.mime.multipart import MIMEMultipart\n",
    "from email.mime.text import MIMEText\n",
    "from getpass import getpass\n",
    "import os\n"
   ]
  },
  {
   "cell_type": "code",
   "execution_count": 423,
   "metadata": {},
   "outputs": [],
   "source": [
    "def get_value(dictionary,value):\n",
    "    '''\n",
    "    Gets the dictionary keys depending on the value \n",
    "    '''\n",
    "    for key in dictionary:\n",
    "        if dictionary[key] == value:\n",
    "            return key\n",
    "\n",
    "\n",
    "def assigning_roles(player_names, percival=False, morgana=False, oberon=False):\n",
    "    \n",
    "    \"\"\"Gets and prints the spreadsheet's header columns\n",
    "\n",
    "    Parameters\n",
    "    ----------\n",
    "    player_names : list\n",
    "        The lists of all the players in the game \n",
    "    percival : bool, optional\n",
    "        Whether or not the players decide to play with the special role of Percival. Good player in favour of good. \n",
    "    morgana :  bool, optional\n",
    "        Whether or not the players decide to play with the special role of Morgana.  Evil player in favour of bad.\n",
    "    oberon :  bool, optional\n",
    "        Whether or not the players decide to play with the special role of Oberon Evil player in favour of good.   \n",
    "\n",
    "   \n",
    "    \"\"\"\n",
    "    \n",
    "    num_player = len(player_names)\n",
    "    print(\"Playing with\", num_player, \"players\" )\n",
    "    assert num_player >= 5, \"You need at least 5 players to plsy Avalon\"\n",
    "    assert num_player <= 12, \"You need less than 11 players to plsy Avalon\"\n",
    "    \n",
    "    if morgana == True: \n",
    "        assert percival == True, \"You need Percival to be playing to use Morgana\"\n",
    "        \n",
    "    \n",
    "    \n",
    "    game_roles = [\"Merlin\",\n",
    "                  \"Assasin\",\n",
    "                  \"Minion of Mordred\",\n",
    "                  \"Loyal Servant of Arthur\",\n",
    "                  \"Loyal Servant of Arthur\"]\n",
    "    \n",
    "    players_to_roles= dict()\n",
    "\n",
    "    # 6 players add good\n",
    "    if num_player >5:\n",
    "        game_roles.append(\"Loyal Servant of Arthur\")\n",
    "\n",
    "    # 7 players add bad\n",
    "    if num_player >6:\n",
    "        game_roles.append(\"Minion of Mordred\")\n",
    "\n",
    "\n",
    "    # 8 players add good\n",
    "    if num_player >7:\n",
    "        game_roles.append(\"Loyal Servant of Arthur\")\n",
    "\n",
    "\n",
    "    # 9 players add good\n",
    "    if num_player >8:\n",
    "        game_roles.append(\"Loyal Servant of Arthur\")\n",
    "\n",
    "\n",
    "\n",
    "    # 10 players add bad\n",
    "    if num_player >9:\n",
    "        game_roles.append(\"Minion of Mordred\")\n",
    "\n",
    "\n",
    "    \n",
    "    \n",
    "    # Special Roles \n",
    "    \n",
    "    if percival == True: \n",
    "        game_roles.insert(1,\"Percival\")\n",
    "        game_roles.remove(\"Loyal Servant of Arthur\")\n",
    "        \n",
    "    if morgana == True: \n",
    "        try:\n",
    "            game_roles.remove(\"Minion of Mordred\")\n",
    "        except ValueError as error:\n",
    "            print(\"You do not have enough players to add this role.\")\n",
    "        else:\n",
    "            game_roles.insert(2,\"Morgana\")\n",
    "        \n",
    "    if oberon == True: \n",
    "        try:\n",
    "            game_roles.remove(\"Minion of Mordred\")\n",
    "        except ValueError as error:\n",
    "            print(\"You do not have enough players to add this role.\")\n",
    "        else:\n",
    "            game_roles.insert(2,\"Oberon\")\n",
    "        if \"Morgana\" in game_roles:\n",
    "            print('You can either have Morgana or Oberon for this amount of players.')\n",
    "    \n",
    "    \n",
    "    # Let's assign a role to each player randomly \n",
    "    \n",
    "    for player in player_names:\n",
    "        role_selected = random.choice(game_roles)\n",
    "        game_roles.remove(role_selected)\n",
    "        players_to_roles[player] = role_selected\n",
    "\n",
    "    \n",
    "    \n",
    "    evil_roles_to_merlin = ['Oberon', \"Morgana\", \"Assasin\", \"Minion of Mordred\"]\n",
    "    evil_roles_to_evil = [\"Morgana\", \"Assasin\", \"Minion of Mordred\"]\n",
    "    evil_players_to_merlin = [] \n",
    "    evil_players_to_evil = []\n",
    "    \n",
    "    for key, value in players_to_roles.items():\n",
    "        if value in evil_roles_to_merlin:\n",
    "            evil_players_to_merlin.append(key)\n",
    "        if value in evil_roles_to_evil:\n",
    "            evil_players_to_evil.append(key)\n",
    "            \n",
    "    \n",
    "            \n",
    "    \n",
    "    # OK now assign viewing ability to everyone. \n",
    "    \n",
    "    for key, value in players_to_roles.items():\n",
    "        file = open(key, \"w\") \n",
    "        file.write(\"Hi \" + key.capitalize() +\", \\n\")\n",
    "        file.write(\"Your role in this game is: \"+ value + '\\n')  \n",
    "        file.write('\\n')  \n",
    "        file.write(\"The players in this game are:\"  + '\\n')  \n",
    "        for player in player_names: \n",
    "             file.write(\"- \" + player  + '\\n')\n",
    "        file.write('\\n')         \n",
    "        if percival == True:\n",
    "            file.write(\"You are playing with the Percival character.\"  + '\\n') \n",
    "\n",
    "        if morgana == True: \n",
    "            file.write(\"You are playing with the Morgana character.\"  + '\\n')\n",
    "      \n",
    "        if oberon == True:\n",
    "            file.write(\"You are playing with the Oberon character.\"  + '\\n') \n",
    "        \n",
    "        file.write('\\n')  \n",
    "        if value == \"Morgana\":\n",
    "            file.write(\"As Morgana, you appear to Percival as Merlin.\"  + '\\n')\n",
    "        \n",
    "     \n",
    "        file.write('\\n')   \n",
    "        if value == \"Merlin\":\n",
    "            file.write(\"The servants of Mordred are:\"  + '\\n')\n",
    "            for bad_guy in evil_players_to_merlin:\n",
    "                 file.write( \"- \" + bad_guy + '\\n') \n",
    "        \n",
    "        if value in evil_roles_to_evil:\n",
    "            file.write(\"The servants of Mordred are:\"  + '\\n')\n",
    "            for bad_guy in evil_players_to_evil:\n",
    "                 file.write( \"- \" + bad_guy + '\\n') \n",
    "            if oberon == True:\n",
    "                file.write(\"Since you are playing with Oberon, there is a third unknown evil player.\"  + '\\n')\n",
    "        \n",
    "        if value == \"Oberon\":\n",
    "            file.write(\"You are evil but you are unable to know who else is evil as the Oberon role.\"  + '\\n')\n",
    "                \n",
    "        if value == \"Percival\":\n",
    "            file.write(\"As Percival you get insight into who Merlin is.\" +'\\n')\n",
    "            merlin_player = get_value(players_to_roles, \"Merlin\")\n",
    "            if morgana == True:\n",
    "                morgana_player = get_value(players_to_roles, \"Morgana\")\n",
    "                merlins = [merlin_player, morgana_player]\n",
    "                random.shuffle(merlins)\n",
    "                file.write(\"Since you are playing with Morgana, one of the following players is Merlin the other is \\n Morgana, a servant of Mordred.\" + \"\\n\") \n",
    "                file.write( \"- \" + merlins[0] + '\\n')\n",
    "                file.write( \"- \" + merlins[1] +'\\n')\n",
    "            else:\n",
    "                 file.write(\"In this case, Merlin is \" +  merlin_player +'\\n')\n",
    "                        \n",
    "                    \n",
    "        if value == \"Loyal Servant of Arthur\":\n",
    "            file.write(\"As a Loyal Servant of Arthur, you do not get insight into the other players' roles.\"  + '\\n')\n",
    "                    \n",
    "\n",
    "        #file.write(\"Your text goes here\")  \n",
    "       # file.close() \n",
    "\n",
    "   "
   ]
  },
  {
   "cell_type": "markdown",
   "metadata": {},
   "source": [
    "Add your players here using the object name `player_names`"
   ]
  },
  {
   "cell_type": "code",
   "execution_count": 424,
   "metadata": {},
   "outputs": [],
   "source": [
    "player_names = [\"Mike\", \"Tiffany\", \"Firas\", \"Tom\", \"Varada\"]"
   ]
  },
  {
   "cell_type": "markdown",
   "metadata": {},
   "source": [
    "Add your player's emails here in the object `player_emails`"
   ]
  },
  {
   "cell_type": "code",
   "execution_count": 433,
   "metadata": {},
   "outputs": [],
   "source": [
    "player_emails = [\"Mike@word.com\", \"hayleyfboyce@hotmail.com\", \n",
    "                 \"Firas@word.com\", \"Tom@word.com\", \"Varada@word.com\"]"
   ]
  },
  {
   "cell_type": "code",
   "execution_count": 434,
   "metadata": {},
   "outputs": [
    {
     "data": {
      "text/plain": [
       "{'Mike': 'Mike@word.com',\n",
       " 'Tiffany': 'hayleyfboyce@hotmail.com',\n",
       " 'Firas': 'Firas@word.com',\n",
       " 'Tom': 'Tom@word.com',\n",
       " 'Varada': 'Varada@word.com'}"
      ]
     },
     "execution_count": 434,
     "metadata": {},
     "output_type": "execute_result"
    }
   ],
   "source": [
    "email_dict = dict(zip(player_names, player_emails))\n",
    "email_dict"
   ]
  },
  {
   "cell_type": "markdown",
   "metadata": {},
   "source": [
    "#### Decide on if you want to play with special characters \n",
    "\n",
    "you may find [this link](https://hobbylark.com/card-games/How-to-Play-Avalon) useful"
   ]
  },
  {
   "cell_type": "code",
   "execution_count": 435,
   "metadata": {
    "scrolled": true
   },
   "outputs": [
    {
     "name": "stdout",
     "output_type": "stream",
     "text": [
      "Playing with 5 players\n"
     ]
    }
   ],
   "source": [
    "assigning_roles(player_names, percival = True, morgana = True, oberon = False)"
   ]
  },
  {
   "cell_type": "markdown",
   "metadata": {},
   "source": [
    "If you want to email then you will need to change the settings on your google gmail account at the following [link](https://myaccount.google.com/lesssecureapps):\n",
    "Change the switch for Allow less secure apps to ON. This is a temporary change and will be restored to the default OFF shortly after or once you are done running your script you can turn it back to OFF.\n",
    "\n",
    "You will get an email from google:\n",
    "\n",
    "Critical security alert for your linked Google Account\n",
    "\n",
    "This if you changing your settings temporarily."
   ]
  },
  {
   "cell_type": "markdown",
   "metadata": {},
   "source": [
    "This is where you enter your email and password."
   ]
  },
  {
   "cell_type": "code",
   "execution_count": null,
   "metadata": {},
   "outputs": [],
   "source": [
    "sender_email = \".....@gmail.com\"\n",
    "sender_email_pswd = getpass(\"What is your gmail email password: \")"
   ]
  },
  {
   "cell_type": "code",
   "execution_count": 437,
   "metadata": {},
   "outputs": [],
   "source": [
    "# Sending emails to players \n",
    "for player in list(email_dict.keys()): \n",
    "    filename = player.lower()\n",
    "    with open(filename, 'r', encoding='utf-8') as file:\n",
    "        file_content = file.read()\n",
    "    \n",
    "    s = smtplib.SMTP(host='smtp.gmail.com', port=587)\n",
    "    s.starttls()\n",
    "    \n",
    "    s.login(sender_email, sender_email_pswd)\n",
    "\n",
    "\n",
    "    msg = MIMEMultipart()      \n",
    "    \n",
    "    msg['From']=email_dict[player]\n",
    "    msg['To']= email_dict[player]\n",
    "    msg['Subject']=\"Avalon Role Assignment\"\n",
    "\n",
    "\n",
    "    msg.attach(MIMEText(file_content, 'plain'))\n",
    "    \n",
    "\n",
    "    s.send_message(msg)\n",
    "    del msg\n",
    "    \n",
    "    os.remove(filename)\n",
    "        \n",
    "\n",
    "    s.quit()\n",
    "    "
   ]
  },
  {
   "cell_type": "markdown",
   "metadata": {},
   "source": [
    "And you should have everything emailed!"
   ]
  },
  {
   "cell_type": "code",
   "execution_count": null,
   "metadata": {},
   "outputs": [],
   "source": []
  }
 ],
 "metadata": {
  "kernelspec": {
   "display_name": "Python 3.7.3 64-bit ('anaconda3': virtualenv)",
   "language": "python",
   "name": "python37364bitanaconda3virtualenv623ca3a14356466f8d7ef9583c51ae9e"
  },
  "language_info": {
   "codemirror_mode": {
    "name": "ipython",
    "version": 3
   },
   "file_extension": ".py",
   "mimetype": "text/x-python",
   "name": "python",
   "nbconvert_exporter": "python",
   "pygments_lexer": "ipython3",
   "version": "3.7.3"
  }
 },
 "nbformat": 4,
 "nbformat_minor": 4
}
