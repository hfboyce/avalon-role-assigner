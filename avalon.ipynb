{
 "cells": [
  {
   "cell_type": "markdown",
   "metadata": {},
   "source": [
    "## Let's try and make a code for Avalon"
   ]
  },
  {
   "cell_type": "code",
   "execution_count": 97,
   "metadata": {},
   "outputs": [],
   "source": [
    "import random"
   ]
  },
  {
   "cell_type": "code",
   "execution_count": 296,
   "metadata": {},
   "outputs": [],
   "source": [
    "def get_value(dictionary,value):\n",
    "    for key in dictionary:\n",
    "        if dictionary[key] == value:\n",
    "            return key\n",
    "\n",
    "\n",
    "def assigning_roles(player_names, percival=False, morgana=False, oberon=False):\n",
    "    \n",
    "    '''\n",
    "    \n",
    "    '''\n",
    "    \n",
    "    num_player = len(player_names)\n",
    "    print(\"Playing with\", num_player, \"players\" )\n",
    "    assert num_player >= 5, \"You need at least 5 players to plsy Avalon\"\n",
    "    assert num_player <= 12, \"You need less than 11 players to plsy Avalon\"\n",
    "    \n",
    "    if morgana == True: \n",
    "        assert percival == True, \"You need Percival to be playing to use Morgana\"\n",
    "        \n",
    "    \n",
    "    \n",
    "    game_roles = [\"Merlin\",\n",
    "                  \"Assasin\",\n",
    "                  \"Minion of Mordred\",\n",
    "                  \"Loyal Servant of Arthur\",\n",
    "                  \"Loyal Servant of Arthur\"]\n",
    "    \n",
    "    players_to_roles= dict()\n",
    "\n",
    "    # 6 players add good\n",
    "    if num_player >5:\n",
    "        game_roles.append(\"Loyal Servant of Arthur\")\n",
    "        print(\"Added Loyal Servant of Arthur\")\n",
    "\n",
    "    # 7 players add bad\n",
    "    if num_player >6:\n",
    "        game_roles.append(\"Minion of Mordred\")\n",
    "        print(\"Added Minion of Mordred\")\n",
    "\n",
    "    # 8 players add good\n",
    "    if num_player >7:\n",
    "        game_roles.append(\"Loyal Servant of Arthur\")\n",
    "        print(\"Added Loyal Servant of Arthur\")\n",
    "\n",
    "    # 9 players add good\n",
    "    if num_player >8:\n",
    "        game_roles.append(\"Loyal Servant of Arthur\")\n",
    "        print(\"Added Loyal Servant of Arthur\")\n",
    "\n",
    "\n",
    "    # 10 players add bad\n",
    "    if num_player >9:\n",
    "        game_roles.append(\"Minion of Mordred\")\n",
    "        print(\"Added Minion of Mordred\")\n",
    "\n",
    "    print(game_roles)\n",
    "    \n",
    "    \n",
    "    # Special Roles \n",
    "    \n",
    "    if percival == True: \n",
    "        game_roles.insert(1,\"Percival\")\n",
    "        game_roles.remove(\"Loyal Servant of Arthur\")\n",
    "        \n",
    "    if morgana == True: \n",
    "        try:\n",
    "            game_roles.remove(\"Minion of Mordred\")\n",
    "        except ValueError as error:\n",
    "            print(\"You do not have enough players to add this role\")\n",
    "        else:\n",
    "            game_roles.insert(2,\"Morgana\")\n",
    "        \n",
    "    if oberon == True: \n",
    "        try:\n",
    "            game_roles.remove(\"Minion of Mordred\")\n",
    "        except ValueError as error:\n",
    "            print(\"You do not have enough players to add this role\")\n",
    "        else:\n",
    "            game_roles.insert(2,\"Oberon\")\n",
    "        if \"Morgana\" in game_roles:\n",
    "            print('You can either have Morgana or Oberon for this amount of players')\n",
    "    \n",
    "    print(game_roles)\n",
    "    print(len(game_roles))\n",
    "    \n",
    "    # Let's assign a role to each player randomly \n",
    "    \n",
    "    for player in player_names:\n",
    "        role_selected = random.choice(game_roles)\n",
    "        game_roles.remove(role_selected)\n",
    "        players_to_roles[player] = role_selected\n",
    "    print(players_to_roles)\n",
    "    \n",
    "    \n",
    "    evil_roles_to_merlin = ['Oberon', \"Morgana\", \"Assasin\", \"Minion of Mordred\"]\n",
    "    evil_roles_to_evil = [\"Morgana\", \"Assasin\", \"Minion of Mordred\"]\n",
    "    evil_players_to_merlin = [] \n",
    "    evil_players_to_evil = []\n",
    "    \n",
    "    for key, value in players_to_roles.items():\n",
    "        if value in evil_roles_to_merlin:\n",
    "            evil_players_to_merlin.append(key)\n",
    "        if value in evil_roles_to_evil:\n",
    "            evil_players_to_evil.append(key)\n",
    "            \n",
    "    \n",
    "            \n",
    "    \n",
    "    # OK now assign viewing ability to everyone. \n",
    "    \n",
    "    for key, value in players_to_roles.items():\n",
    "        file = open(key, \"w\") \n",
    "        file.write(\"Hi \" + key +\", \\n\")\n",
    "        file.write(\"Your role in this game is: \"+ value + '\\n')  \n",
    "        file.write('\\n')  \n",
    "        file.write(\"The players in this game are:\"  + '\\n')  \n",
    "        for player in player_names: \n",
    "             file.write(\"- \" + player  + '\\n')\n",
    "        file.write('\\n')         \n",
    "        if percival == True:\n",
    "            file.write(\"You are playing with the Percival character\"  + '\\n') \n",
    "\n",
    "        if morgana == True: \n",
    "            file.write(\"You are playing with the Morgana character\"  + '\\n')\n",
    "      \n",
    "        if oberon == True:\n",
    "            file.write(\"You are playing with the Oberon character\"  + '\\n') \n",
    "        \n",
    "        file.write('\\n')  \n",
    "        if value == \"Morgana\":\n",
    "            file.write(\"As Morgana, you appear to Percival as Merlin.\"  + '\\n')\n",
    "        \n",
    "     \n",
    "        file.write('\\n')   \n",
    "        if value == \"Merlin\":\n",
    "            file.write(\"The servants of Mordred are:\"  + '\\n')\n",
    "            for bad_guy in evil_players_to_merlin:\n",
    "                 file.write( \"- \" + bad_guy + '\\n') \n",
    "        \n",
    "        if value in evil_roles_to_evil:\n",
    "            file.write(\"The servants of Mordred are:\"  + '\\n')\n",
    "            for bad_guy in evil_players_to_evil:\n",
    "                 file.write( \"- \" + bad_guy + '\\n') \n",
    "            if oberon == True:\n",
    "                file.write(\"Since you are playing with Oberon, there is a third unknown evil player \"  + '\\n')\n",
    "        \n",
    "        if value == \"Oberon\":\n",
    "            file.write(\"You are evil but you are unable to know who else is evil as the Oberon role.\"  + '\\n')\n",
    "                \n",
    "        if value == \"Percival\":\n",
    "            file.write(\"As Percival you get insight into who Merlin is.\" +'\\n')\n",
    "            merlin_player = get_value(players_to_roles, \"Merlin\")\n",
    "            if morgana == True:\n",
    "                morgana_player = get_value(players_to_roles, \"Morgana\")\n",
    "                merlins = [merlin_player, morgana_player]\n",
    "                random.shuffle(merlins)\n",
    "                file.write(\"Since you are playing with Morgana, one of the following players is Merlin the other is \\n Morgana, a servant of Mordred\" + \"\\n\") \n",
    "                file.write( \"- \" + merlins[0] + '\\n')\n",
    "                file.write( \"- \" + merlins[1] +'\\n')\n",
    "            else:\n",
    "                 file.write(\"In this case, Merlin is \" +  merlin_player +'\\n')\n",
    "                        \n",
    "                    \n",
    "        if value == \"Loyal Servant of Arthur\":\n",
    "            file.write(\"As a Loyal Servant of Arthur, you do not get insight into the other player's roles\"  + '\\n')\n",
    "                    \n",
    "\n",
    "        #file.write(\"Your text goes here\")  \n",
    "       # file.close() \n",
    "\n",
    "   "
   ]
  },
  {
   "cell_type": "code",
   "execution_count": 294,
   "metadata": {},
   "outputs": [],
   "source": [
    "player_names = [\"Mike\", \"Tiffany\", \"Firas\", \"Tom\", \"Varada\", \"Rodolfo\", \"Vincenzo\", \"Hayley\"]"
   ]
  },
  {
   "cell_type": "code",
   "execution_count": 285,
   "metadata": {},
   "outputs": [],
   "source": [
    "player_names = [\"Mike\", \"Tiffany\", \"Firas\", \"Tom\", \"Varada\"]"
   ]
  },
  {
   "cell_type": "code",
   "execution_count": 29,
   "metadata": {},
   "outputs": [
    {
     "name": "stdout",
     "output_type": "stream",
     "text": [
      "added Loyal Servant of Arthur\n"
     ]
    }
   ],
   "source": [
    "\n",
    "     \n",
    "     for key, value in myDict.items():\n",
    "        for v in value:\n",
    "            if lookup in v:\n",
    "                return key\n",
    "    file = open(\"copy.txt\", \"w\") \n",
    "file.write(\"Your text goes here\") \n",
    "file.close() \n"
   ]
  },
  {
   "cell_type": "code",
   "execution_count": 297,
   "metadata": {
    "scrolled": true
   },
   "outputs": [
    {
     "name": "stdout",
     "output_type": "stream",
     "text": [
      "Playing with 8 players\n",
      "Added Loyal Servant of Arthur\n",
      "Added Minion of Mordred\n",
      "Added Loyal Servant of Arthur\n",
      "['Merlin', 'Assasin', 'Minion of Mordred', 'Loyal Servant of Arthur', 'Loyal Servant of Arthur', 'Loyal Servant of Arthur', 'Minion of Mordred', 'Loyal Servant of Arthur']\n",
      "You can either have Morgana or Oberon for this amount of players\n",
      "['Merlin', 'Percival', 'Oberon', 'Morgana', 'Assasin', 'Loyal Servant of Arthur', 'Loyal Servant of Arthur', 'Loyal Servant of Arthur']\n",
      "8\n",
      "{'Mike': 'Loyal Servant of Arthur', 'Tiffany': 'Merlin', 'Firas': 'Loyal Servant of Arthur', 'Tom': 'Oberon', 'Varada': 'Percival', 'Rodolfo': 'Morgana', 'Vincenzo': 'Assasin', 'Hayley': 'Loyal Servant of Arthur'}\n"
     ]
    }
   ],
   "source": [
    "assigning_roles(player_names, percival = True, morgana = True, oberon = True)"
   ]
  },
  {
   "cell_type": "code",
   "execution_count": 321,
   "metadata": {},
   "outputs": [
    {
     "name": "stdout",
     "output_type": "stream",
     "text": [
      "Mike Loyal Servant of Arthur\n",
      "Tiffany Assasin\n",
      "Firas Loyal Servant of Arthur\n",
      "Tom Oberon\n",
      "Varada Merlin\n",
      "Rodolfo Loyal Servant of Arthur\n",
      "Vincenzo Loyal Servant of Arthur\n",
      "Hayley Morgana\n",
      "['Tiffany', 'Tom', 'Hayley']\n",
      "['Mike', 'Tiffany', 'Firas', 'Tom', 'Varada', 'Rodolfo', 'Vincenzo', 'Hayley']\n"
     ]
    }
   ],
   "source": [
    "diction ={'Mike': 'Loyal Servant of Arthur', 'Tiffany': 'Assasin', 'Firas': 'Loyal Servant of Arthur', 'Tom': 'Oberon', 'Varada': 'Merlin', 'Rodolfo': 'Loyal Servant of Arthur', 'Vincenzo': 'Loyal Servant of Arthur', 'Hayley': 'Morgana'}\n",
    "all_evil_roles = ['Oberon', \"Morgana\", \"Assasin\", \"Minion of Mordred\"]\n",
    "evil_players = [ ] \n",
    "\n",
    "for key, value in diction.items():\n",
    "    print(key, value)\n",
    "    if value in all_evil_roles:\n",
    "        evil_players.append(key)\n",
    "\n",
    "print(evil_players) \n",
    "print(list(diction.keys()))"
   ]
  },
  {
   "cell_type": "code",
   "execution_count": 177,
   "metadata": {},
   "outputs": [
    {
     "ename": "KeyError",
     "evalue": "'Merlin'",
     "output_type": "error",
     "traceback": [
      "\u001b[0;31m---------------------------------------------------------------------------\u001b[0m",
      "\u001b[0;31mKeyError\u001b[0m                                  Traceback (most recent call last)",
      "\u001b[0;32m<ipython-input-177-d1c7be7f8494>\u001b[0m in \u001b[0;36m<module>\u001b[0;34m\u001b[0m\n\u001b[0;32m----> 1\u001b[0;31m \u001b[0mdiction\u001b[0m\u001b[0;34m[\u001b[0m\u001b[0;34m\"Merlin\"\u001b[0m\u001b[0;34m]\u001b[0m\u001b[0;34m\u001b[0m\u001b[0;34m\u001b[0m\u001b[0m\n\u001b[0m",
      "\u001b[0;31mKeyError\u001b[0m: 'Merlin'"
     ]
    }
   ],
   "source": [
    "diction[\"Merlin\"]"
   ]
  },
  {
   "cell_type": "code",
   "execution_count": 100,
   "metadata": {},
   "outputs": [],
   "source": [
    "uniqueValues = set(diction.values())"
   ]
  },
  {
   "cell_type": "code",
   "execution_count": 103,
   "metadata": {},
   "outputs": [
    {
     "name": "stdout",
     "output_type": "stream",
     "text": [
      "Merlin\n",
      "Oberon\n",
      "Assasin\n",
      "Loyal Servant of Arthur\n",
      "Morgana\n"
     ]
    }
   ],
   "source": [
    "for value in uniqueValues:\n",
    "    print(value)"
   ]
  },
  {
   "cell_type": "code",
   "execution_count": 299,
   "metadata": {
    "scrolled": true
   },
   "outputs": [
    {
     "ename": "KeyboardInterrupt",
     "evalue": "",
     "output_type": "error",
     "traceback": [
      "\u001b[0;31m---------------------------------------------------------------------------\u001b[0m",
      "\u001b[0;31mKeyboardInterrupt\u001b[0m                         Traceback (most recent call last)",
      "\u001b[0;32m/anaconda3/lib/python3.7/site-packages/ipykernel/kernelbase.py\u001b[0m in \u001b[0;36m_input_request\u001b[0;34m(self, prompt, ident, parent, password)\u001b[0m\n\u001b[1;32m    884\u001b[0m             \u001b[0;32mtry\u001b[0m\u001b[0;34m:\u001b[0m\u001b[0;34m\u001b[0m\u001b[0;34m\u001b[0m\u001b[0m\n\u001b[0;32m--> 885\u001b[0;31m                 \u001b[0mident\u001b[0m\u001b[0;34m,\u001b[0m \u001b[0mreply\u001b[0m \u001b[0;34m=\u001b[0m \u001b[0mself\u001b[0m\u001b[0;34m.\u001b[0m\u001b[0msession\u001b[0m\u001b[0;34m.\u001b[0m\u001b[0mrecv\u001b[0m\u001b[0;34m(\u001b[0m\u001b[0mself\u001b[0m\u001b[0;34m.\u001b[0m\u001b[0mstdin_socket\u001b[0m\u001b[0;34m,\u001b[0m \u001b[0;36m0\u001b[0m\u001b[0;34m)\u001b[0m\u001b[0;34m\u001b[0m\u001b[0;34m\u001b[0m\u001b[0m\n\u001b[0m\u001b[1;32m    886\u001b[0m             \u001b[0;32mexcept\u001b[0m \u001b[0mException\u001b[0m\u001b[0;34m:\u001b[0m\u001b[0;34m\u001b[0m\u001b[0;34m\u001b[0m\u001b[0m\n",
      "\u001b[0;32m/anaconda3/lib/python3.7/site-packages/jupyter_client/session.py\u001b[0m in \u001b[0;36mrecv\u001b[0;34m(self, socket, mode, content, copy)\u001b[0m\n\u001b[1;32m    802\u001b[0m         \u001b[0;32mtry\u001b[0m\u001b[0;34m:\u001b[0m\u001b[0;34m\u001b[0m\u001b[0;34m\u001b[0m\u001b[0m\n\u001b[0;32m--> 803\u001b[0;31m             \u001b[0mmsg_list\u001b[0m \u001b[0;34m=\u001b[0m \u001b[0msocket\u001b[0m\u001b[0;34m.\u001b[0m\u001b[0mrecv_multipart\u001b[0m\u001b[0;34m(\u001b[0m\u001b[0mmode\u001b[0m\u001b[0;34m,\u001b[0m \u001b[0mcopy\u001b[0m\u001b[0;34m=\u001b[0m\u001b[0mcopy\u001b[0m\u001b[0;34m)\u001b[0m\u001b[0;34m\u001b[0m\u001b[0;34m\u001b[0m\u001b[0m\n\u001b[0m\u001b[1;32m    804\u001b[0m         \u001b[0;32mexcept\u001b[0m \u001b[0mzmq\u001b[0m\u001b[0;34m.\u001b[0m\u001b[0mZMQError\u001b[0m \u001b[0;32mas\u001b[0m \u001b[0me\u001b[0m\u001b[0;34m:\u001b[0m\u001b[0;34m\u001b[0m\u001b[0;34m\u001b[0m\u001b[0m\n",
      "\u001b[0;32m/anaconda3/lib/python3.7/site-packages/zmq/sugar/socket.py\u001b[0m in \u001b[0;36mrecv_multipart\u001b[0;34m(self, flags, copy, track)\u001b[0m\n\u001b[1;32m    469\u001b[0m         \"\"\"\n\u001b[0;32m--> 470\u001b[0;31m         \u001b[0mparts\u001b[0m \u001b[0;34m=\u001b[0m \u001b[0;34m[\u001b[0m\u001b[0mself\u001b[0m\u001b[0;34m.\u001b[0m\u001b[0mrecv\u001b[0m\u001b[0;34m(\u001b[0m\u001b[0mflags\u001b[0m\u001b[0;34m,\u001b[0m \u001b[0mcopy\u001b[0m\u001b[0;34m=\u001b[0m\u001b[0mcopy\u001b[0m\u001b[0;34m,\u001b[0m \u001b[0mtrack\u001b[0m\u001b[0;34m=\u001b[0m\u001b[0mtrack\u001b[0m\u001b[0;34m)\u001b[0m\u001b[0;34m]\u001b[0m\u001b[0;34m\u001b[0m\u001b[0;34m\u001b[0m\u001b[0m\n\u001b[0m\u001b[1;32m    471\u001b[0m         \u001b[0;31m# have first part already, only loop while more to receive\u001b[0m\u001b[0;34m\u001b[0m\u001b[0;34m\u001b[0m\u001b[0;34m\u001b[0m\u001b[0m\n",
      "\u001b[0;32mzmq/backend/cython/socket.pyx\u001b[0m in \u001b[0;36mzmq.backend.cython.socket.Socket.recv\u001b[0;34m()\u001b[0m\n",
      "\u001b[0;32mzmq/backend/cython/socket.pyx\u001b[0m in \u001b[0;36mzmq.backend.cython.socket.Socket.recv\u001b[0;34m()\u001b[0m\n",
      "\u001b[0;32mzmq/backend/cython/socket.pyx\u001b[0m in \u001b[0;36mzmq.backend.cython.socket._recv_copy\u001b[0;34m()\u001b[0m\n",
      "\u001b[0;32m/anaconda3/lib/python3.7/site-packages/zmq/backend/cython/checkrc.pxd\u001b[0m in \u001b[0;36mzmq.backend.cython.checkrc._check_rc\u001b[0;34m()\u001b[0m\n",
      "\u001b[0;31mKeyboardInterrupt\u001b[0m: ",
      "\nDuring handling of the above exception, another exception occurred:\n",
      "\u001b[0;31mKeyboardInterrupt\u001b[0m                         Traceback (most recent call last)",
      "\u001b[0;32m<ipython-input-299-43f0ea84956f>\u001b[0m in \u001b[0;36m<module>\u001b[0;34m\u001b[0m\n\u001b[0;32m----> 1\u001b[0;31m \u001b[0mx\u001b[0m\u001b[0;34m,\u001b[0m \u001b[0my\u001b[0m \u001b[0;34m=\u001b[0m \u001b[0minput\u001b[0m\u001b[0;34m(\u001b[0m\u001b[0;34m\"Enter First Name: \"\u001b[0m\u001b[0;34m)\u001b[0m\u001b[0;34m,\u001b[0m \u001b[0minput\u001b[0m\u001b[0;34m(\u001b[0m\u001b[0;34m\"Enter Last Name: \"\u001b[0m\u001b[0;34m)\u001b[0m\u001b[0;34m\u001b[0m\u001b[0;34m\u001b[0m\u001b[0m\n\u001b[0m",
      "\u001b[0;32m/anaconda3/lib/python3.7/site-packages/ipykernel/kernelbase.py\u001b[0m in \u001b[0;36mraw_input\u001b[0;34m(self, prompt)\u001b[0m\n\u001b[1;32m    858\u001b[0m             \u001b[0mself\u001b[0m\u001b[0;34m.\u001b[0m\u001b[0m_parent_ident\u001b[0m\u001b[0;34m,\u001b[0m\u001b[0;34m\u001b[0m\u001b[0;34m\u001b[0m\u001b[0m\n\u001b[1;32m    859\u001b[0m             \u001b[0mself\u001b[0m\u001b[0;34m.\u001b[0m\u001b[0m_parent_header\u001b[0m\u001b[0;34m,\u001b[0m\u001b[0;34m\u001b[0m\u001b[0;34m\u001b[0m\u001b[0m\n\u001b[0;32m--> 860\u001b[0;31m             \u001b[0mpassword\u001b[0m\u001b[0;34m=\u001b[0m\u001b[0;32mFalse\u001b[0m\u001b[0;34m,\u001b[0m\u001b[0;34m\u001b[0m\u001b[0;34m\u001b[0m\u001b[0m\n\u001b[0m\u001b[1;32m    861\u001b[0m         )\n\u001b[1;32m    862\u001b[0m \u001b[0;34m\u001b[0m\u001b[0m\n",
      "\u001b[0;32m/anaconda3/lib/python3.7/site-packages/ipykernel/kernelbase.py\u001b[0m in \u001b[0;36m_input_request\u001b[0;34m(self, prompt, ident, parent, password)\u001b[0m\n\u001b[1;32m    888\u001b[0m             \u001b[0;32mexcept\u001b[0m \u001b[0mKeyboardInterrupt\u001b[0m\u001b[0;34m:\u001b[0m\u001b[0;34m\u001b[0m\u001b[0;34m\u001b[0m\u001b[0m\n\u001b[1;32m    889\u001b[0m                 \u001b[0;31m# re-raise KeyboardInterrupt, to truncate traceback\u001b[0m\u001b[0;34m\u001b[0m\u001b[0;34m\u001b[0m\u001b[0;34m\u001b[0m\u001b[0m\n\u001b[0;32m--> 890\u001b[0;31m                 \u001b[0;32mraise\u001b[0m \u001b[0mKeyboardInterrupt\u001b[0m\u001b[0;34m\u001b[0m\u001b[0;34m\u001b[0m\u001b[0m\n\u001b[0m\u001b[1;32m    891\u001b[0m             \u001b[0;32melse\u001b[0m\u001b[0;34m:\u001b[0m\u001b[0;34m\u001b[0m\u001b[0;34m\u001b[0m\u001b[0m\n\u001b[1;32m    892\u001b[0m                 \u001b[0;32mbreak\u001b[0m\u001b[0;34m\u001b[0m\u001b[0;34m\u001b[0m\u001b[0m\n",
      "\u001b[0;31mKeyboardInterrupt\u001b[0m: "
     ]
    }
   ],
   "source": [
    "x, y = input(\"Enter First Name: \"), input(\"Enter Last Name: \") "
   ]
  },
  {
   "cell_type": "code",
   "execution_count": 344,
   "metadata": {},
   "outputs": [],
   "source": [
    "import av_assign as av\n",
    "import smtplib\n",
    "from email.mime.multipart import MIMEMultipart\n",
    "from email.mime.text import MIMEText"
   ]
  },
  {
   "cell_type": "code",
   "execution_count": null,
   "metadata": {},
   "outputs": [],
   "source": [
    "print(\"Hi! Welcome to online Avalon!\")\n",
    "player_number = int(input(\"How many players do you want to play with today? \"))\n",
    "if player_number >11: \n",
    "    print( \"Oh no that is too many players! This game has to have less than 11 players. \\n Tell the extras to concentrate on drinking wine \")\n",
    "    player_number = int(input(\"Did you bench some of your friends? How many players do you want to play with now? \"))\n",
    "if player_number <5: \n",
    "    print( \"Oh no that is  not enough players! This game has to have 5 or more  players. \\n Time to start making new friends\")\n",
    "    player_number = int(input(\"Did you make new friends? How many players do you want to play with now? \"))\n",
    "player_names = [ ] \n",
    "email_dict = {}  \n",
    "for i in range(0, player_number): \n",
    "    player = input(\"Player name: \")\n",
    "    email = input(\"Player email: \")\n",
    "    player_names.append(player)\n",
    "    email_dict[player] = email\n",
    "      \n",
    "print(player_names) \n",
    "print(email_dict)\n",
    "\n",
    "special_input = (input(\"Did you want to play with any special players (Percival, Morgana or Oberon) Y/N ? \")).upper()\n",
    "if special_input == \"N\": \n",
    "    percival = False\n",
    "    Morgana = False\n",
    "    Oberon = False \n",
    "\n",
    "if special_input == \"Y\":\n",
    "    perc_in = (input(\"Did you want to play with Percival Y/N ? \")).upper()\n",
    "    if perc_in == \"Y\":\n",
    "        percival = True\n",
    "        print(\"Great, We will play with Percival\")\n",
    "    elif perc_in == \"N\":\n",
    "        percival = False\n",
    "    else: \n",
    "        print(\"That is not a valid input, please try again\")\n",
    "        perc_in = (input(\"Did you want to play with Percival Y/N ? \")).upper()\n",
    "    \n",
    "    if percival == True: \n",
    "        morg_in = (input(\"Did you want to play with Morgana Y/N ? \")).upper()\n",
    "        if morg_in == \"Y\":\n",
    "            morgana = True\n",
    "            print(\"Great, We will play with Morgana\")\n",
    "        elif morg_in == \"N\":\n",
    "            morgana = False\n",
    "        else: \n",
    "            print(\"That is not a valid input, please try again\")\n",
    "            morgana = (input(\"Did you want to play with Percival Y/N ? \")).upper()\n",
    "        \n",
    "    ob_in = (input(\"Did you want to play with Oberon Y/N ? \")).upper()\n",
    "    if ob_in == \"Y\":\n",
    "        oberon = True\n",
    "        print(\"Great, We will play with Oberon\")\n",
    "    elif ob_in == \"N\":\n",
    "        oberon = False\n",
    "    else: \n",
    "        print(\"That is not a valid input, please try again\")\n",
    "        ob_in = upper(input(\"Did you want to play with Oberon Y/N ? \"))\n",
    "        \n",
    "        "
   ]
  },
  {
   "cell_type": "code",
   "execution_count": 354,
   "metadata": {},
   "outputs": [],
   "source": [
    "email_dict = {\"Hayley\": \"hayleyfboyce@gmail.com\", \"bob\":\"bob@boob.com\"}"
   ]
  },
  {
   "cell_type": "code",
   "execution_count": 332,
   "metadata": {
    "scrolled": true
   },
   "outputs": [
    {
     "data": {
      "text/plain": [
       "'Hayleyfboyce@gmail.com'"
      ]
     },
     "execution_count": 332,
     "metadata": {},
     "output_type": "execute_result"
    }
   ],
   "source": [
    "email_dict[\"Hayley\"]"
   ]
  },
  {
   "cell_type": "code",
   "execution_count": 355,
   "metadata": {},
   "outputs": [],
   "source": [
    "list(email_dict.keys())\n",
    "\n",
    "sender_email, sender_email_pswd = \"hayleyfboyce@gmail.com\", "
   ]
  },
  {
   "cell_type": "code",
   "execution_count": 356,
   "metadata": {},
   "outputs": [
    {
     "name": "stdout",
     "output_type": "stream",
     "text": [
      "Hi Hayley, \n",
      "Your role in this game is: Loyal Servant of Arthur\n",
      "\n",
      "The players in this game are:\n",
      "- Hayley\n",
      "- Bob\n",
      "- Cob\n",
      "- Rob\n",
      "- Pop\n",
      "\n",
      "\n",
      "\n",
      "As a Loyal Servant of Arthur, you do not get insight into the other player's roles\n",
      "\n",
      "Hi Bob, \n",
      "Your role in this game is: Loyal Servant of Arthur\n",
      "\n",
      "The players in this game are:\n",
      "- Hayley\n",
      "- Bob\n",
      "- Cob\n",
      "- Rob\n",
      "- Pop\n",
      "\n",
      "\n",
      "\n",
      "As a Loyal Servant of Arthur, you do not get insight into the other player's roles\n",
      "\n"
     ]
    }
   ],
   "source": [
    "for player in list(email_dict.keys()): \n",
    "    filename = player.lower() + \".txt\"\n",
    "    with open(filename, 'r', encoding='utf-8') as file:\n",
    "        file_content = file.read()\n",
    "        print(file_content)\n",
    "    \n",
    "    s = smtplib.SMTP(host='smtp.gmail.com', port=587)\n",
    "    s.starttls()\n",
    "    \n",
    "    s.login(sender_email, sender_email_pswd)\n",
    "\n",
    "\n",
    "    msg = MIMEMultipart()       # create a message\n",
    "    \n",
    "    msg['From']=email_dict[player]\n",
    "    msg['To']= email_dict[player]\n",
    "    msg['Subject']=\"Avalon Role Assignment\"\n",
    "\n",
    "    # add in the message body\n",
    "    msg.attach(MIMEText(file_content, 'plain'))\n",
    "    \n",
    "    # send the message via the server set up earlier.\n",
    "    s.send_message(msg)\n",
    "    del msg\n",
    "        \n",
    "    # Terminate the SMTP session and close the connection\n",
    "    s.quit()\n",
    "    \n"
   ]
  },
  {
   "cell_type": "code",
   "execution_count": null,
   "metadata": {},
   "outputs": [],
   "source": [
    "import smtplib\n",
    "# set up the SMTP server\n",
    "s = smtplib.SMTP(host='your_host_address_here', port=your_port_here)\n",
    "s.starttls()\n",
    "s.login(MY_ADDRESS, PASSWORD)\n",
    "\n",
    "\n",
    "s = smtplib.SMTP(host='smtp-mail.outlook.com', port=587)\n",
    "\n",
    "\n",
    " s.quit()"
   ]
  },
  {
   "cell_type": "code",
   "execution_count": null,
   "metadata": {},
   "outputs": [],
   "source": [
    "# Python code to illustrate Sending mail with attachments \n",
    "# from your Gmail account  \n",
    "  \n",
    "# libraries to be imported \n",
    "import smtplib \n",
    "from email.mime.multipart import MIMEMultipart \n",
    "from email.mime.text import MIMEText \n",
    "from email.mime.base import MIMEBase \n",
    "from email import encoders \n",
    "   \n",
    "sender_email = \"EMAIL address of the sender\"\n",
    "toaddr = \"EMAIL address of the receiver\"\n",
    "   \n",
    "# instance of MIMEMultipart \n",
    "msg = MIMEMultipart() \n",
    "  \n",
    "# storing the senders email address   \n",
    "msg['From'] = \"hayleyfboyce@gmail.com\" \n",
    "  \n",
    "# storing the receivers email address  \n",
    "msg['To'] = \"hayleyfboyce@hotmail.com\"  \n",
    "  \n",
    "# storing the subject  \n",
    "msg['Subject'] = \"Avalon Role Assignments\"\n",
    "  \n",
    "# string to store the body of the mail \n",
    "\n",
    "log = open(\"hayley\" + '.txt')\n",
    "body = log.read()\n",
    "  \n",
    "# attach the body with the msg instance \n",
    "msg.attach(MIMEText(body, 'plain')) \n",
    "  \n",
    "# open the file to be sent  \n",
    "filename = \"File_name_with_extension\"\n",
    "attachment = open(\"Path of the file\", \"rb\") \n",
    "  \n",
    "# instance of MIMEBase and named as p \n",
    "p = MIMEBase('application', 'octet-stream') \n",
    "  \n",
    "# To change the payload into encoded form \n",
    "p.set_payload((attachment).read()) \n",
    "  \n",
    "# encode into base64 \n",
    "encoders.encode_base64(p) \n",
    "   \n",
    "p.add_header('Content-Disposition', \"attachment; filename= %s\" % filename) \n",
    "  \n",
    "# attach the instance 'p' to instance 'msg' \n",
    "msg.attach(p) \n",
    "  \n",
    "# creates SMTP session \n",
    "s = smtplib.SMTP('smtp.gmail.com', 587) \n",
    "  \n",
    "# start TLS for security \n",
    "s.starttls() \n",
    "  \n",
    "# Authentication \n",
    "s.login(fromaddr, \"Password_of_the_sender\") \n",
    "  \n",
    "# Converts the Multipart msg into a string \n",
    "text = msg.as_string() \n",
    "  \n",
    "# sending the mail \n",
    "s.sendmail(fromaddr, toaddr, text) \n",
    "  \n",
    "# terminating the session \n",
    "s.quit() "
   ]
  }
 ],
 "metadata": {
  "kernelspec": {
   "display_name": "Python 3.7.3 64-bit ('anaconda3': virtualenv)",
   "language": "python",
   "name": "python37364bitanaconda3virtualenv623ca3a14356466f8d7ef9583c51ae9e"
  },
  "language_info": {
   "codemirror_mode": {
    "name": "ipython",
    "version": 3
   },
   "file_extension": ".py",
   "mimetype": "text/x-python",
   "name": "python",
   "nbconvert_exporter": "python",
   "pygments_lexer": "ipython3",
   "version": "3.7.3"
  }
 },
 "nbformat": 4,
 "nbformat_minor": 4
}
